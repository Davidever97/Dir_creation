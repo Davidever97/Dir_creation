{
 "cells": [
  {
   "cell_type": "code",
   "execution_count": 36,
   "metadata": {},
   "outputs": [],
   "source": [
    "import os"
   ]
  },
  {
   "cell_type": "code",
   "execution_count": 37,
   "metadata": {},
   "outputs": [
    {
     "name": "stdout",
     "output_type": "stream",
     "text": [
      "Il nome della cartella che vorresti creare?Prova\n"
     ]
    }
   ],
   "source": [
    "name= input(\"Il nome della cartella che vorresti creare?\")\n",
    "path = \"/Users/davideesposito/Desktop/Personali/\"+str(name)"
   ]
  },
  {
   "cell_type": "code",
   "execution_count": 38,
   "metadata": {},
   "outputs": [],
   "source": [
    "os.mkdir(path)"
   ]
  },
  {
   "cell_type": "code",
   "execution_count": 39,
   "metadata": {},
   "outputs": [],
   "source": [
    "os.chdir(path)"
   ]
  },
  {
   "cell_type": "code",
   "execution_count": 44,
   "metadata": {},
   "outputs": [
    {
     "name": "stdout",
     "output_type": "stream",
     "text": [
      "Cartella creata\n",
      "Vuoi anche creare un Notebook da nuovo?\n",
      "Scrivi: \n",
      " 0 for No \n",
      " 1 for Yes \n",
      "1\n",
      "Notebook Creato\n"
     ]
    }
   ],
   "source": [
    "print(\"Cartella creata\")\n",
    "print(\"Vuoi anche creare un Notebook da nuovo?\")\n",
    "aswer= input(\"Scrivi: \\n 0 for No \\n 1 for Yes \\n\" )\n",
    "if aswer == str(1):\n",
    "    file = str(name)+\".ipynb\"\n",
    "    myFile = open(str(file), \"w+\")\n",
    "    myFile.close()\n",
    "    print(\"Notebook Creato\")"
   ]
  },
  {
   "cell_type": "code",
   "execution_count": 53,
   "metadata": {},
   "outputs": [
    {
     "name": "stdout",
     "output_type": "stream",
     "text": [
      "Vuoi aprire Anaconda?\n",
      "Scrivi: \n",
      " 0 for No \n",
      " 1 for Yes \n",
      "1\n",
      "Aperta\n"
     ]
    }
   ],
   "source": [
    "print(\"Vuoi aprire Anaconda?\")\n",
    "aswer1= input(\"Scrivi: \\n 0 for No \\n 1 for Yes \\n\" )\n",
    "if aswer1 == str(1):\n",
    "    os.system(\"open /Applications/Anaconda-Navigator.app\")\n",
    "    print(\"Aperta\")"
   ]
  },
  {
   "cell_type": "code",
   "execution_count": null,
   "metadata": {},
   "outputs": [],
   "source": []
  },
  {
   "cell_type": "code",
   "execution_count": null,
   "metadata": {},
   "outputs": [],
   "source": []
  },
  {
   "cell_type": "code",
   "execution_count": null,
   "metadata": {},
   "outputs": [],
   "source": []
  },
  {
   "cell_type": "code",
   "execution_count": null,
   "metadata": {},
   "outputs": [],
   "source": []
  },
  {
   "cell_type": "code",
   "execution_count": null,
   "metadata": {},
   "outputs": [],
   "source": []
  },
  {
   "cell_type": "code",
   "execution_count": null,
   "metadata": {},
   "outputs": [],
   "source": []
  },
  {
   "cell_type": "code",
   "execution_count": null,
   "metadata": {},
   "outputs": [],
   "source": []
  },
  {
   "cell_type": "code",
   "execution_count": null,
   "metadata": {},
   "outputs": [],
   "source": []
  },
  {
   "cell_type": "code",
   "execution_count": null,
   "metadata": {},
   "outputs": [],
   "source": []
  },
  {
   "cell_type": "code",
   "execution_count": null,
   "metadata": {},
   "outputs": [],
   "source": []
  }
 ],
 "metadata": {
  "kernelspec": {
   "display_name": "Python 3",
   "language": "python",
   "name": "python3"
  },
  "language_info": {
   "codemirror_mode": {
    "name": "ipython",
    "version": 3
   },
   "file_extension": ".py",
   "mimetype": "text/x-python",
   "name": "python",
   "nbconvert_exporter": "python",
   "pygments_lexer": "ipython3",
   "version": "3.7.4"
  }
 },
 "nbformat": 4,
 "nbformat_minor": 2
}
